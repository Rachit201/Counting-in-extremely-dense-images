{
  "nbformat": 4,
  "nbformat_minor": 5,
  "metadata": {
    "kernelspec": {
      "display_name": "Python 3 (ipykernel)",
      "language": "python",
      "name": "python3"
    },
    "language_info": {
      "codemirror_mode": {
        "name": "ipython",
        "version": 3
      },
      "file_extension": ".py",
      "mimetype": "text/x-python",
      "name": "python",
      "nbconvert_exporter": "python",
      "pygments_lexer": "ipython3",
      "version": "3.7.11"
    },
    "colab": {
      "name": "HOG-Simple-Detection.ipynb",
      "provenance": []
    }
  },
  "cells": [
    {
      "cell_type": "code",
      "metadata": {
        "id": "e072d776"
      },
      "source": [
        "from __future__ import print_function\n",
        "from imutils.object_detection import non_max_suppression\n",
        "from imutils import paths\n",
        "import numpy as np\n",
        "import imutils\n",
        "import cv2"
      ],
      "id": "e072d776",
      "execution_count": null,
      "outputs": []
    },
    {
      "cell_type": "code",
      "metadata": {
        "id": "c0b76b5e"
      },
      "source": [
        "hog = cv2.HOGDescriptor()\n",
        "hog.setSVMDetector(cv2.HOGDescriptor_getDefaultPeopleDetector())"
      ],
      "id": "c0b76b5e",
      "execution_count": null,
      "outputs": []
    },
    {
      "cell_type": "code",
      "metadata": {
        "id": "5016f32f"
      },
      "source": [
        "imgPath = r'C:\\Users\\user\\Desktop\\ML\\CrowdDetection\\RP1\\hogTest6.jpg'"
      ],
      "id": "5016f32f",
      "execution_count": null,
      "outputs": []
    },
    {
      "cell_type": "code",
      "metadata": {
        "id": "620610b0"
      },
      "source": [
        "image = cv2.imread(imgPath)"
      ],
      "id": "620610b0",
      "execution_count": null,
      "outputs": []
    },
    {
      "cell_type": "code",
      "metadata": {
        "id": "0ee8a738"
      },
      "source": [
        "image = imutils.resize(image, width=min(400, image.shape[1]))\n",
        "orig = image.copy()"
      ],
      "id": "0ee8a738",
      "execution_count": null,
      "outputs": []
    },
    {
      "cell_type": "code",
      "metadata": {
        "id": "d8506757"
      },
      "source": [
        "(rects, weights) = hog.detectMultiScale(image, winStride=(4, 4),padding=(8, 8), scale=1.05)"
      ],
      "id": "d8506757",
      "execution_count": null,
      "outputs": []
    },
    {
      "cell_type": "code",
      "metadata": {
        "id": "f5d2e3f9"
      },
      "source": [
        "person = 1\n",
        "for (x,y,w,h) in rects:\n",
        "    cv2.rectangle(orig,(x,y),(x+w,y+h),(0,0,255),2)\n",
        "    cv2.putText(orig, f'person {person}', (x,y), cv2.FONT_HERSHEY_SIMPLEX, 0.5, (0,0,255), 1)\n",
        "    person += 1\n",
        "    \n",
        "cv2.putText(orig, 'Status : Detecting ', (40,40), cv2.FONT_HERSHEY_DUPLEX, 0.8, (255,0,0), 2)\n",
        "cv2.putText(orig, f'Total Persons : {person-1}', (40,70), cv2.FONT_HERSHEY_DUPLEX, 0.8, (255,0,0), 2)"
      ],
      "id": "f5d2e3f9",
      "execution_count": null,
      "outputs": []
    },
    {
      "cell_type": "code",
      "metadata": {
        "id": "0800275a"
      },
      "source": [
        "cv2.imshow(\"Before NMS\", orig)\n",
        "cv2.waitKey(0)"
      ],
      "id": "0800275a",
      "execution_count": null,
      "outputs": []
    },
    {
      "cell_type": "code",
      "metadata": {
        "id": "bce3df66"
      },
      "source": [
        ""
      ],
      "id": "bce3df66",
      "execution_count": null,
      "outputs": []
    }
  ]
}