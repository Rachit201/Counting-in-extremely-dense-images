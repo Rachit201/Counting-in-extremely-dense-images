{
  "nbformat": 4,
  "nbformat_minor": 5,
  "metadata": {
    "kernelspec": {
      "display_name": "Python 3 (ipykernel)",
      "language": "python",
      "name": "python3"
    },
    "language_info": {
      "codemirror_mode": {
        "name": "ipython",
        "version": 3
      },
      "file_extension": ".py",
      "mimetype": "text/x-python",
      "name": "python",
      "nbconvert_exporter": "python",
      "pygments_lexer": "ipython3",
      "version": "3.7.11"
    },
    "colab": {
      "name": "HOG-FineTuned_Img.ipynb",
      "provenance": []
    }
  },
  "cells": [
    {
      "cell_type": "code",
      "metadata": {
        "id": "4ef23eef"
      },
      "source": [
        "from __future__ import print_function\n",
        "from imutils.object_detection import non_max_suppression\n",
        "from imutils import paths\n",
        "import numpy as np\n",
        "import imutils\n",
        "import cv2"
      ],
      "id": "4ef23eef",
      "execution_count": null,
      "outputs": []
    },
    {
      "cell_type": "code",
      "metadata": {
        "id": "6485c28a"
      },
      "source": [
        "hog = cv2.HOGDescriptor()\n",
        "hog.setSVMDetector(cv2.HOGDescriptor_getDefaultPeopleDetector())"
      ],
      "id": "6485c28a",
      "execution_count": null,
      "outputs": []
    },
    {
      "cell_type": "code",
      "metadata": {
        "id": "913ca8da"
      },
      "source": [
        "imgPath = r'C:\\Users\\user\\Desktop\\ML\\CrowdDetection\\RP1\\input\\input\\people1.jpg'"
      ],
      "id": "913ca8da",
      "execution_count": null,
      "outputs": []
    },
    {
      "cell_type": "code",
      "metadata": {
        "id": "485ef4bd"
      },
      "source": [
        "image = cv2.imread(imgPath)"
      ],
      "id": "485ef4bd",
      "execution_count": null,
      "outputs": []
    },
    {
      "cell_type": "code",
      "metadata": {
        "id": "4daec931"
      },
      "source": [
        "if image.shape[1] < 400: # if image width < 400\n",
        "    (height, width) = image.shape[:2]\n",
        "    ratio = width / float(height) # find the width to height ratio\n",
        "    image = cv2.resize(image, (400, int(width*ratio))) # resize the image according to the width to height ratio\n",
        "\n",
        "img_gray = cv2.cvtColor(image, cv2.COLOR_BGR2GRAY)"
      ],
      "id": "4daec931",
      "execution_count": null,
      "outputs": []
    },
    {
      "cell_type": "code",
      "metadata": {
        "id": "4045af77"
      },
      "source": [
        "rects, weights = hog.detectMultiScale(img_gray, winStride=(2, 2), padding=(10, 10), scale=1.02)"
      ],
      "id": "4045af77",
      "execution_count": null,
      "outputs": []
    },
    {
      "cell_type": "code",
      "metadata": {
        "id": "62c2a74a"
      },
      "source": [
        "for i, (x, y, w, h) in enumerate(rects):\n",
        "    if weights[i] < 0.13:\n",
        "        continue\n",
        "    elif weights[i] < 0.3 and weights[i] > 0.13:\n",
        "        cv2.rectangle(image, (x, y), (x+w, y+h), (0, 0, 255), 2)\n",
        "    if weights[i] < 0.7 and weights[i] > 0.3:\n",
        "        cv2.rectangle(image, (x, y), (x+w, y+h), (50, 122, 255), 2)\n",
        "    if weights[i] > 0.7:\n",
        "        cv2.rectangle(image, (x, y), (x+w, y+h), (0, 255, 0), 2)\n",
        "cv2.putText(image, 'High confidence', (10, 15), cv2.FONT_HERSHEY_SIMPLEX, 0.7, (0, 255, 0), 2)\n",
        "cv2.putText(image, 'Moderate confidence', (10, 35), cv2.FONT_HERSHEY_SIMPLEX, 0.7, (50, 122, 255), 2)\n",
        "cv2.putText(image, 'Low confidence', (10, 55), cv2.FONT_HERSHEY_SIMPLEX, 0.7, (0, 0, 255), 2)\n",
        "cv2.imshow('HOG detection', image)\n",
        "#cv2.imwrite(f\"../outputs/{image_name}\", image)\n",
        "cv2.waitKey(0)"
      ],
      "id": "62c2a74a",
      "execution_count": null,
      "outputs": []
    },
    {
      "cell_type": "code",
      "metadata": {
        "id": "b651113b"
      },
      "source": [
        ""
      ],
      "id": "b651113b",
      "execution_count": null,
      "outputs": []
    }
  ]
}